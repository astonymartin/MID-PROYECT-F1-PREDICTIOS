{
 "cells": [
  {
   "cell_type": "markdown",
   "id": "f38e3b1c",
   "metadata": {},
   "source": [
    "<h1 style=\"color: #F70206; text-shadow: 2px 2px 4px #000000; border: 1px solid #000000; font-size: 60px; text-align: center; background-color: #A1A1A3;\"> 🏎️ FORMULA 1: LAP TIMES 🏎️ </h1>\n",
    "\n"
   ]
  },
  {
   "cell_type": "markdown",
   "id": "07cb2671",
   "metadata": {},
   "source": [
    "<h1 style=\"color: #F70206; text-shadow: 2px 2px 4px #000000; border: 1px solid #000000; font-size: 36px;\">00 | First Steps </h1>"
   ]
  },
  {
   "cell_type": "code",
   "execution_count": null,
   "id": "a7f11323",
   "metadata": {},
   "outputs": [],
   "source": [
    "pip install pandas matplotlib seaborn numpy scipy statsmodels scikit-learn xgboost\n"
   ]
  },
  {
   "cell_type": "code",
   "execution_count": 1,
   "id": "c461ec22",
   "metadata": {},
   "outputs": [],
   "source": [
    "import pandas as pd                                      # 😀 Importa la biblioteca pandas y la renombra como pd para su uso en el código.\n",
    "import matplotlib.pyplot as plt                          # 📊 Importa la biblioteca matplotlib.pyplot y la renombra como plt para su uso en el código.\n",
    "import seaborn as sns                                    # 📈 Importa la biblioteca seaborn para gráficos estadísticos.\n",
    "import numpy as np                                       # 🔢 Importa la biblioteca numpy y la renombra como np para su uso en el código.\n",
    "from scipy.stats import chi2_contingency                 # 📊 Importa la función chi2_contingency de la biblioteca scipy.stats para realizar pruebas de independencia.\n",
    "from scipy.stats.contingency import association          # 📊 Importa la función association de la biblioteca scipy.stats.contingency para calcular medidas de asociación en tablas de contingencia.\n",
    "import statsmodels.api as sm                             # 📈 Importa la biblioteca statsmodels.api para análisis estadístico y modelado.\n",
    "import scipy.stats as st                                 # 🔬 Importa la biblioteca scipy.stats para distribuciones y pruebas estadísticas.\n",
    "from sklearn.model_selection import train_test_split     # 🛠️ Importa la función train_test_split de la biblioteca sklearn.model_selection para dividir datos en conjuntos de entrenamiento y prueba.\n",
    "from sklearn.linear_model import LinearRegression        # 📈 Importa el modelo de regresión lineal de la biblioteca sklearn.linear_model.\n",
    "from sklearn.metrics import r2_score, mean_squared_error, mean_absolute_error  # 📊 Importa métricas de evaluación de modelos de la biblioteca sklearn.metrics.\n",
    "from sklearn.linear_model import Ridge                   # 📈 Importa el modelo de regresión Ridge de la biblioteca sklearn.linear_model.\n",
    "from sklearn.linear_model import Lasso                   # 📈 Importa el modelo de regresión Lasso de la biblioteca sklearn.linear_model.\n",
    "from sklearn.tree import DecisionTreeRegressor           # 🌳 Importa el modelo de regresión de árbol de decisión de la biblioteca sklearn.tree.\n",
    "from sklearn.neighbors import KNeighborsRegressor        # 🏠 Importa el modelo de regresión de vecinos más cercanos de la biblioteca sklearn.neighbors.\n",
    "from sklearn.preprocessing import MinMaxScaler           # 📏 Importa la clase MinMaxScaler de la biblioteca sklearn.preprocessing para escalar características al rango [0, 1].\n",
    "from sklearn.preprocessing import StandardScaler         # 📏 Importa la clase StandardScaler de la biblioteca sklearn.preprocessing para estandarizar características eliminando la media y escalando a la varianza unitaria.\n",
    "from sklearn.ensemble import RandomForestClassifier\n",
    "from sklearn.model_selection import GridSearchCV\n",
    "from sklearn.utils import resample\n",
    "import xgboost as xgb                                    # 🚀 Importa la biblioteca xgboost para el modelado de gradient boosting.\n",
    "import warnings                                          # ⚠️ Importa la biblioteca warnings para manejar advertencias.\n",
    "from datetime import datetime                            # 📅 Importa la clase datetime de la biblioteca datetime para trabajar con fechas y horas.\n",
    "from sklearn import preprocessing                        # 🛠️ Importa el módulo preprocessing de la biblioteca sklearn para realizar preprocesamiento de datos."
   ]
  },
  {
   "cell_type": "markdown",
   "id": "3a6765fc",
   "metadata": {},
   "source": [
    "<div class=\"alert alert-block alert-info\" style=\"background-color: rgba(247, 2, 6, 0.2); color: black;\">\n",
    "    <strong>Tip #1</strong> RELLENAR!\n",
    "</div>\n"
   ]
  },
  {
   "cell_type": "markdown",
   "id": "b7e5c3e3",
   "metadata": {},
   "source": [
    "<h4 style=\"color: #F70206;\">Other settings</h4>"
   ]
  },
  {
   "cell_type": "markdown",
   "id": "d96053f2",
   "metadata": {},
   "source": [
    "<h1 style=\"color: #F70206; text-shadow: 2px 2px 4px #000000; border: 1px solid #000000; font-size: 36px;\">04 | Modeling</h1>"
   ]
  },
  {
   "cell_type": "markdown",
   "id": "bdd339cd",
   "metadata": {},
   "source": [
    "<h4 style=\"color: #F70206;\">Train-Test Split</h4>"
   ]
  },
  {
   "cell_type": "code",
   "execution_count": null,
   "id": "3d6ba970",
   "metadata": {},
   "outputs": [],
   "source": [
    "data = pd.read_csv(\"dfq1.csv\")"
   ]
  },
  {
   "cell_type": "code",
   "execution_count": null,
   "id": "98a3a9eb",
   "metadata": {},
   "outputs": [],
   "source": [
    "df1 = data.copy()"
   ]
  },
  {
   "cell_type": "code",
   "execution_count": null,
   "id": "541d416c",
   "metadata": {},
   "outputs": [],
   "source": [
    "lista_dataframes = []\n",
    "for circuito in df1['circuitref'].unique():\n",
    "    globals()[f'df1_{circuito}'] = df1[df1['circuitref'] == circuito].copy()\n",
    "    lista_dataframes.append(f'df1_{circuito}')"
   ]
  },
  {
   "cell_type": "code",
   "execution_count": 64,
   "id": "0f4adf60",
   "metadata": {},
   "outputs": [
    {
     "name": "stdout",
     "output_type": "stream",
     "text": [
      "100% of our data: 80.\n",
      "80% for training data: 42.\n",
      "20% for test data: 18.\n",
      "    overall  predictions_test  predictions_real   differences\n",
      "0   81901.0      32834.656250      85185.382812  49066.343750\n",
      "1   82742.0      82614.671875      85185.382812    127.328125\n",
      "2   80254.0      80210.929688      85185.382812     43.070312\n",
      "3   87846.0      87938.164062      85191.234375    -92.164062\n",
      "4   82839.0      82537.687500      85256.710938    301.312500\n",
      "5   88577.0      88302.382812      85198.445312    274.617188\n",
      "6   79580.0      79434.484375      85219.937500    145.515625\n",
      "7   88180.0      88266.015625      85267.585938    -86.015625\n",
      "8   82688.0      82634.796875      85253.578125     53.203125\n",
      "9   88394.0      88328.164062      85279.750000     65.835938\n",
      "10  88086.0      87923.132812      85191.179688    162.867188\n",
      "11  88061.0      87889.203125      85205.632812    171.796875\n",
      "12  79401.0      79249.578125      85200.960938    151.421875\n",
      "13  82398.0      82378.882812      85279.367188     19.117188\n",
      "14  88476.0      88374.492188      85217.898438    101.507812\n",
      "15  83262.0      83204.656250      85200.960938     57.343750\n",
      "16  82458.0      82710.812500      85203.546875   -252.812500\n",
      "17  82422.0      82473.132812      85274.789062    -51.132812\n",
      "18      NaN               NaN      85267.585938           NaN\n",
      "19      NaN               NaN      85204.007812           NaN\n"
     ]
    }
   ],
   "source": [
    "    X = df1_bahrain.drop([\"q1\", \"position\", \"circuitref\"], axis=1)\n",
    "    y = df1_bahrain[\"q1\"]\n",
    "    X_2024 = X[df1_bahrain['year'] == 2024]\n",
    "    y_2024 = y[df1_bahrain['year'] == 2024]\n",
    "    X_train, X_test, y_train, y_test = train_test_split(X[df1_bahrain['year'] != 2024], \n",
    "                                                        y[df1_bahrain['year'] != 2024], \n",
    "                                                        test_size=0.3, \n",
    "                                                        random_state=42)\n",
    "    print(f'100% of our data: {len(df1_bahrain)}.')\n",
    "    print(f'80% for training data: {len(X_train)}.')\n",
    "    print(f'20% for test data: {len(X_test)}.')\n",
    "    \n",
    "    parameters = {\n",
    "    'n_estimators': [100, 200, 300, 400, 500],\n",
    "    'max_depth': [3, 4, 5, 6, 7],\n",
    "    'learning_rate': [0.05, 0.1, 0.15, 0.2],\n",
    "    'min_child_weight': [1, 3, 5, 7],\n",
    "    'gamma': [0, 0.1, 0.2, 0.3, 0.4],\n",
    "    'subsample': [0.6, 0.7, 0.8, 0.9],\n",
    "    'colsample_bytree': [0.6, 0.7, 0.8, 0.9],\n",
    "    'reg_alpha': [0, 0.1, 0.5, 1, 2],\n",
    "    'reg_lambda': [0, 0.1, 0.5, 1, 2]}\n",
    " \n",
    "\n",
    "    xgbr = xgb.XGBRFRegressor()\n",
    "    xgbr = GridSearchCV(xgbr, parameters)\n",
    "    xgbr.fit(X_train, y_train)\n",
    "\n",
    "    predictions_xgb = xgbr.predict(X_test)\n",
    "    predictions_xgb_2024  = xgbr.predict(X_2024)\n",
    "\n",
    "    r2_3_6 = r2_score(y_test, predictions_xgb)\n",
    "    RMSE_3_6 = mean_squared_error(y_test, predictions_xgb, squared=False)\n",
    "    MSE_3_6 = mean_squared_error(y_test, predictions_xgb)\n",
    "    MAE_3_6 = mean_absolute_error(y_test, predictions_xgb)\n",
    "\n",
    "\n",
    "\n",
    "    series_pred = pd.Series(predictions_xgb, name='predictions_test')\n",
    "    series_y_test = pd.Series(y_test, name='overall')\n",
    "    series_pred_2024 = pd.Series(predictions_xgb_2024, name='predictions_real')\n",
    "    comparison_df = pd.concat([series_y_test.reset_index(drop=True), series_pred, series_pred_2024], axis=1)\n",
    "    comparison_df[\"differences\"] = comparison_df[\"overall\"] - comparison_df[\"predictions_test\"]\n",
    "    print(comparison_df)"
   ]
  },
  {
   "cell_type": "markdown",
   "id": "3788324e",
   "metadata": {},
   "source": [
    "<h4 style=\"color: #F70206;\">Selecting the Model: Linear Regression, Model Validation, Metrics</h4>"
   ]
  },
  {
   "cell_type": "markdown",
   "id": "7f1e6856",
   "metadata": {},
   "source": [
    "<h4 style=\"color: #F70206;\">Comparing models: Ridge Regression, XGBoost Regression, KNN Regression, Decision Tree Regression,  Ridge Regression</h4>"
   ]
  },
  {
   "cell_type": "markdown",
   "id": "38ce7e3b",
   "metadata": {},
   "source": [
    "<h4 style=\"color: #F70206;\">Columnas categoricas y numericas</h4>"
   ]
  },
  {
   "cell_type": "markdown",
   "id": "d35ee9fa",
   "metadata": {},
   "source": [
    "<h4 style=\"color: #F70206;\">Columnas categoricas y numericas</h4>"
   ]
  },
  {
   "cell_type": "markdown",
   "id": "7ed301f4",
   "metadata": {},
   "source": [
    "<h4 style=\"color: #F70206;\">Columnas categoricas y numericas</h4>"
   ]
  },
  {
   "cell_type": "markdown",
   "id": "c73d427f",
   "metadata": {},
   "source": [
    "<h1 style=\"color: #F70206; text-shadow: 2px 2px 4px #000000; border: 1px solid #000000; font-size: 36px;\">05 | Improving the Model</h1>"
   ]
  },
  {
   "cell_type": "code",
   "execution_count": null,
   "id": "5ca8c160",
   "metadata": {},
   "outputs": [],
   "source": []
  },
  {
   "cell_type": "code",
   "execution_count": null,
   "id": "caa6343e",
   "metadata": {},
   "outputs": [],
   "source": []
  },
  {
   "cell_type": "code",
   "execution_count": null,
   "id": "17186c41",
   "metadata": {},
   "outputs": [],
   "source": []
  },
  {
   "cell_type": "code",
   "execution_count": null,
   "id": "3aea881a",
   "metadata": {},
   "outputs": [],
   "source": []
  },
  {
   "cell_type": "code",
   "execution_count": null,
   "id": "c85c9fe4",
   "metadata": {},
   "outputs": [],
   "source": []
  }
 ],
 "metadata": {
  "kernelspec": {
   "display_name": "Python 3 (ipykernel)",
   "language": "python",
   "name": "python3"
  },
  "language_info": {
   "codemirror_mode": {
    "name": "ipython",
    "version": 3
   },
   "file_extension": ".py",
   "mimetype": "text/x-python",
   "name": "python",
   "nbconvert_exporter": "python",
   "pygments_lexer": "ipython3",
   "version": "3.11.5"
  }
 },
 "nbformat": 4,
 "nbformat_minor": 5
}
