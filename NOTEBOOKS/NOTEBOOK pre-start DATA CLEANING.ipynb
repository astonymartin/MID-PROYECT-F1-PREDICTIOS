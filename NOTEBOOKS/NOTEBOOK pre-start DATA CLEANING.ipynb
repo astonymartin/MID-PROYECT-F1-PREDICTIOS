{
 "cells": [
  {
   "cell_type": "markdown",
   "id": "f38e3b1c",
   "metadata": {},
   "source": [
    "<h1 style=\"color: #F70206; text-shadow: 2px 2px 4px #000000; border: 1px solid #000000; font-size: 60px; text-align: center; background-color: #A1A1A3;\"> 🏎️ FORMULA 1: LAP TIMES 🏎️ </h1>\n",
    "\n"
   ]
  },
  {
   "cell_type": "markdown",
   "id": "07cb2671",
   "metadata": {},
   "source": [
    "<h1 style=\"color: #F70206; text-shadow: 2px 2px 4px #000000; border: 1px solid #000000; font-size: 36px;\">00 | First Steps </h1>"
   ]
  },
  {
   "cell_type": "code",
   "execution_count": 1,
   "id": "c461ec22",
   "metadata": {},
   "outputs": [],
   "source": [
    "import re                                                # 🔄 Importa la biblioteca re para operaciones de expresiones regulares.\n",
    "import pandas as pd                                      # 😀 Importa la biblioteca pandas y la renombra como pd para su uso en el código.\n",
    "import matplotlib.pyplot as plt                          # 📊 Importa la biblioteca matplotlib.pyplot y la renombra como plt para su uso en el código.\n",
    "import seaborn as sns                                    # 📈 Importa la biblioteca seaborn para gráficos estadísticos.\n",
    "import numpy as np                                       # 🔢 Importa la biblioteca numpy y la renombra como np para su uso en el código.\n",
    "import statsmodels.api as sm                             # 📈 Importa la biblioteca statsmodels.api para análisis estadístico y modelado.\n",
    "import scipy.stats as st                                 # 🔬 Importa la biblioteca scipy.stats para distribuciones y pruebas estadísticas.\n",
    "import warnings                                          # ⚠️ Importa la biblioteca warnings para manejar advertencias.\n",
    "from datetime import datetime                            # 📅 Importa la clase datetime de la biblioteca datetime para trabajar con fechas y horas."
   ]
  },
  {
   "cell_type": "markdown",
   "id": "3a6765fc",
   "metadata": {},
   "source": [
    "<div class=\"alert alert-block alert-info\" style=\"background-color: rgba(247, 2, 6, 0.2); color: black;\">\n",
    "    <strong>Tip #1</strong> RELLENAR!\n",
    "</div>\n"
   ]
  },
  {
   "cell_type": "markdown",
   "id": "b7e5c3e3",
   "metadata": {},
   "source": [
    "<h4 style=\"color: #F70206;\">Other settings</h4>"
   ]
  },
  {
   "cell_type": "code",
   "execution_count": 2,
   "id": "4082ce03",
   "metadata": {},
   "outputs": [],
   "source": [
    "warnings.filterwarnings(\"ignore\")\n",
    "%matplotlib inline\n",
    "pd.set_option('display.max_columns', None)"
   ]
  },
  {
   "cell_type": "markdown",
   "id": "3402cd50",
   "metadata": {},
   "source": [
    "<h4 style=\"color: #F70206;\">Data Extraction</h4>"
   ]
  },
  {
   "cell_type": "code",
   "execution_count": null,
   "id": "e096b808",
   "metadata": {},
   "outputs": [],
   "source": [
    "data = pd.read_csv(\"train.csv\")"
   ]
  },
  {
   "cell_type": "markdown",
   "id": "0df4008d",
   "metadata": {},
   "source": [
    "<h4 style=\"color: #F70206;\">Exploring the Data (First Impression)</h4>"
   ]
  },
  {
   "cell_type": "code",
   "execution_count": null,
   "id": "1e01508b",
   "metadata": {},
   "outputs": [],
   "source": [
    "data"
   ]
  },
  {
   "cell_type": "code",
   "execution_count": null,
   "id": "b41e1fbf",
   "metadata": {},
   "outputs": [],
   "source": [
    "data.info()"
   ]
  },
  {
   "cell_type": "code",
   "execution_count": null,
   "id": "1fd9d253",
   "metadata": {},
   "outputs": [],
   "source": [
    "data.columns"
   ]
  },
  {
   "cell_type": "code",
   "execution_count": null,
   "id": "d830316e",
   "metadata": {},
   "outputs": [],
   "source": [
    "for column in data.columns:\n",
    "    print(data.columns.unique())"
   ]
  },
  {
   "cell_type": "code",
   "execution_count": null,
   "id": "5018b5ca",
   "metadata": {},
   "outputs": [],
   "source": [
    "df = data.copy()"
   ]
  },
  {
   "cell_type": "markdown",
   "id": "7a2b8760",
   "metadata": {},
   "source": [
    "<h1 style=\"color: #F70206; text-shadow: 2px 2px 4px #000000; border: 1px solid #000000; font-size: 36px;\">01 | Data Cleaning</h1>"
   ]
  },
  {
   "cell_type": "markdown",
   "id": "9051dfcb",
   "metadata": {},
   "source": [
    "<h4 style=\"color: #F70206;\">Cleaning Column Names</h4>"
   ]
  },
  {
   "cell_type": "code",
   "execution_count": null,
   "id": "cf41c258",
   "metadata": {},
   "outputs": [],
   "source": [
    "dfcopy.columns = dfcopy.columns.str.lower().str.replace(\" \", \"_\")"
   ]
  },
  {
   "cell_type": "code",
   "execution_count": null,
   "id": "ac0f72e8",
   "metadata": {},
   "outputs": [],
   "source": [
    "dfcopy.rename(columns={\"st\": \"state\"}, inplace = True)"
   ]
  },
  {
   "cell_type": "markdown",
   "id": "af34b16a",
   "metadata": {},
   "source": [
    "<h6 style=\"color: #F70206;\">Reordering columns</h6>"
   ]
  },
  {
   "cell_type": "code",
   "execution_count": null,
   "id": "7586642e",
   "metadata": {},
   "outputs": [],
   "source": [
    "df.columns"
   ]
  },
  {
   "cell_type": "code",
   "execution_count": null,
   "id": "de993667",
   "metadata": {},
   "outputs": [],
   "source": [
    "column_order = ['date', 'bedrooms', 'bathrooms', 'sqft_living', 'sqft_lot',\n",
    "                'floors', 'waterfront', 'view', 'condition', 'grade', 'sqft_above',\n",
    "                'sqft_basement', 'yr_built', 'yr_renovated', 'zipcode', 'lat', 'long',\n",
    "                'sqft_living15', 'sqft_lot15', 'price']\n",
    "df = df.reindex(columns=column_order)"
   ]
  },
  {
   "cell_type": "markdown",
   "id": "2e370860",
   "metadata": {},
   "source": [
    "<h4 style=\"color: #F70206;\">Cleaning invalid Values</h4>"
   ]
  },
  {
   "cell_type": "code",
   "execution_count": null,
   "id": "b2897176",
   "metadata": {},
   "outputs": [],
   "source": [
    "mean_ages = dict(df.groupby(\"title\")[\"age\"].mean().round(1))            # TECNICA MAPEO"
   ]
  },
  {
   "cell_type": "code",
   "execution_count": null,
   "id": "c362cc3f",
   "metadata": {},
   "outputs": [],
   "source": [
    "age_by_title = df[\"title\"].map(mean_ages)"
   ]
  },
  {
   "cell_type": "markdown",
   "id": "3ca818ae",
   "metadata": {},
   "source": []
  },
  {
   "cell_type": "code",
   "execution_count": null,
   "id": "f5a4c1d4",
   "metadata": {},
   "outputs": [],
   "source": [
    "mapeo = {\"Male\": \"M\", \"female\":\"F\", \"Femal\": \"F\", \"M\": \"M\", \"F\": \"F\"}       # TECNICA MAPEO"
   ]
  },
  {
   "cell_type": "code",
   "execution_count": null,
   "id": "ecc072d2",
   "metadata": {},
   "outputs": [],
   "source": [
    "dfcopy[\"gender\"] = dfcopy[\"gender\"].map(mapeo)"
   ]
  },
  {
   "cell_type": "code",
   "execution_count": null,
   "id": "58c27940",
   "metadata": {},
   "outputs": [],
   "source": [
    "dfcopy[\"gender\"].value_counts()"
   ]
  },
  {
   "cell_type": "code",
   "execution_count": null,
   "id": "f1856753",
   "metadata": {},
   "outputs": [],
   "source": []
  },
  {
   "cell_type": "code",
   "execution_count": null,
   "id": "a1ef0057",
   "metadata": {},
   "outputs": [],
   "source": [
    "df[\"sex_enc\"] = df[\"sex\"].map({\"female\": 0, \"male\": 1})                   # TECNICA MAPEO A BINARIO"
   ]
  },
  {
   "cell_type": "code",
   "execution_count": null,
   "id": "d704fb07",
   "metadata": {},
   "outputs": [],
   "source": []
  },
  {
   "cell_type": "code",
   "execution_count": null,
   "id": "79a9c66b",
   "metadata": {},
   "outputs": [],
   "source": [
    "titles_dummies = pd.get_dummies(df[\"title\"], prefix=\"title\")             # TECNICA CREAR DUMIES\n",
    "df = pd.concat([df, titles_dummies], axis=1)"
   ]
  },
  {
   "cell_type": "code",
   "execution_count": null,
   "id": "e4086599",
   "metadata": {},
   "outputs": [],
   "source": [
    "df = df * 1                                                              # TRANSFORMANDO DE BOOLEAN A INT (0 Y 1)"
   ]
  },
  {
   "cell_type": "markdown",
   "id": "129fff06",
   "metadata": {},
   "source": [
    "<h6 style=\"color: #F70206;\">Cleaning values with binig</h6>"
   ]
  },
  {
   "cell_type": "code",
   "execution_count": null,
   "id": "fded6ccd",
   "metadata": {},
   "outputs": [],
   "source": [
    "df.title.replace(df.title.value_counts().index[4:], \"Other\", inplace=True)"
   ]
  },
  {
   "cell_type": "markdown",
   "id": "04cf509d",
   "metadata": {},
   "source": [
    "<h6 style=\"color: #F70206;\">Cleaning column values</h6>"
   ]
  },
  {
   "cell_type": "code",
   "execution_count": null,
   "id": "17051ffe",
   "metadata": {},
   "outputs": [],
   "source": [
    "df[\"cabin\"] = df[\"cabin\"].apply(lambda x: x[0] if isinstance(x, str) else \"M\")"
   ]
  },
  {
   "cell_type": "code",
   "execution_count": null,
   "id": "be6fe78e",
   "metadata": {},
   "outputs": [],
   "source": [
    "df[\"cabin\"].value_counts().sort_values(ascending=False)"
   ]
  },
  {
   "cell_type": "markdown",
   "id": "01bca146",
   "metadata": {},
   "source": [
    "<h6 style=\"color: #F70206;\">Cleaning string column values</h6>"
   ]
  },
  {
   "cell_type": "code",
   "execution_count": null,
   "id": "25a769dd",
   "metadata": {},
   "outputs": [],
   "source": [
    "\"Braund, Mr. Owen Harris\".split(\",\")[1].split(\".\")[0].strip()"
   ]
  },
  {
   "cell_type": "code",
   "execution_count": null,
   "id": "459bf0ff",
   "metadata": {},
   "outputs": [],
   "source": [
    "df[\"title\"] = df[\"name\"].apply(lambda x: x.split(\",\")[1].split(\".\")[0].strip())"
   ]
  },
  {
   "cell_type": "markdown",
   "id": "0f4dd1f0",
   "metadata": {},
   "source": [
    "<h4 style=\"color: #F70206;\">Dealing with Data types</h4>"
   ]
  },
  {
   "cell_type": "code",
   "execution_count": null,
   "id": "a09d0c6e",
   "metadata": {},
   "outputs": [],
   "source": []
  },
  {
   "cell_type": "markdown",
   "id": "af3e423a",
   "metadata": {},
   "source": [
    "<h6 style=\"color: #F70206;\">Dealing with datetime</h6>"
   ]
  },
  {
   "cell_type": "code",
   "execution_count": null,
   "id": "876edd49",
   "metadata": {},
   "outputs": [],
   "source": [
    "df['date'] = pd.to_datetime(df['date'])"
   ]
  },
  {
   "cell_type": "code",
   "execution_count": null,
   "id": "aa40278d",
   "metadata": {},
   "outputs": [],
   "source": [
    "df['date'] = df['date'].apply(lambda x: x.toordinal())"
   ]
  },
  {
   "cell_type": "code",
   "execution_count": null,
   "id": "3de7c330",
   "metadata": {},
   "outputs": [],
   "source": [
    "dfcopy['year'] = dfcopy['year'].astype(int)"
   ]
  },
  {
   "cell_type": "markdown",
   "id": "88da359d",
   "metadata": {},
   "source": [
    "<h6 style=\"color: #F70206;\">Formatting data types</h6>"
   ]
  },
  {
   "cell_type": "code",
   "execution_count": null,
   "id": "7ea9325b",
   "metadata": {},
   "outputs": [],
   "source": [
    "df['columna'] = df['columna'].apply(lambda x: float(x) if isinstance(x, int) else x)      # de int a float"
   ]
  },
  {
   "cell_type": "markdown",
   "id": "e03c2b20",
   "metadata": {},
   "source": [
    "<h4 style=\"color: #F70206;\">Dealing with NaN values</h4>"
   ]
  },
  {
   "cell_type": "code",
   "execution_count": null,
   "id": "c5b9a321",
   "metadata": {},
   "outputs": [],
   "source": [
    "df.isna().sum()"
   ]
  },
  {
   "cell_type": "code",
   "execution_count": null,
   "id": "8048f678",
   "metadata": {},
   "outputs": [],
   "source": [
    "dfcopy[\"customer_lifetime_value\"].fillna(0, inplace=True)"
   ]
  },
  {
   "cell_type": "markdown",
   "id": "7c445f64",
   "metadata": {},
   "source": [
    "<h6 style=\"color: #F70206;\">Filling Nan with methods</h6>"
   ]
  },
  {
   "cell_type": "code",
   "execution_count": null,
   "id": "a0381542",
   "metadata": {},
   "outputs": [],
   "source": [
    "for column in dfcopy.columns:\n",
    "    dfcopy[column] = dfcopy[column].interpolate(method='linear', limit_direction='forward', axis=0)"
   ]
  },
  {
   "cell_type": "markdown",
   "id": "69bbefa3",
   "metadata": {},
   "source": [
    "<h4 style=\"color: #F70206;\">Dealing with Duplicates</h4>"
   ]
  },
  {
   "cell_type": "code",
   "execution_count": null,
   "id": "d467ec51",
   "metadata": {},
   "outputs": [],
   "source": [
    "data.duplicated().sum()"
   ]
  },
  {
   "cell_type": "code",
   "execution_count": null,
   "id": "c96e41f4",
   "metadata": {},
   "outputs": [],
   "source": [
    "dfduplicates.drop_duplicates(keep=\"first\")"
   ]
  },
  {
   "cell_type": "markdown",
   "id": "b6fcfb9d",
   "metadata": {},
   "source": [
    "<h4 style=\"color: #F70206;\">Dealing with Empty Spaces</h4>"
   ]
  },
  {
   "cell_type": "code",
   "execution_count": null,
   "id": "d038f41f",
   "metadata": {},
   "outputs": [],
   "source": [
    "data.eq(\" \").sum()"
   ]
  },
  {
   "cell_type": "markdown",
   "id": "c0ba8d8e",
   "metadata": {},
   "source": [
    "<h4 style=\"color: #F70206;\">Columnas categoricas y numericas</h4>"
   ]
  },
  {
   "cell_type": "code",
   "execution_count": null,
   "id": "481f5d59",
   "metadata": {},
   "outputs": [],
   "source": [
    "numerical = []                                         # CATEGORICAS MENOS DE 6\n",
    "categorical = [] \n",
    "for column in df.describe().columns:\n",
    "    if int(df[column].nunique()) > 6:\n",
    "        numerical.append(column)\n",
    "    else:\n",
    "        categorical.append(column)\n",
    "print(f' numerical : {numerical}')\n",
    "print(f' categorical : {categorical}')"
   ]
  },
  {
   "cell_type": "code",
   "execution_count": null,
   "id": "82b34c87",
   "metadata": {},
   "outputs": [],
   "source": [
    "columnas_categoricas = dfcopy.select_dtypes(include=\"object\")\n",
    "columnas_numericas = dfcopy.select_dtypes(include=\"number\")"
   ]
  },
  {
   "cell_type": "markdown",
   "id": "488159f1",
   "metadata": {},
   "source": [
    "<h4 style=\"color: #F70206;\">Dropping columns</h4>"
   ]
  },
  {
   "cell_type": "code",
   "execution_count": null,
   "id": "1876a2fc",
   "metadata": {},
   "outputs": [],
   "source": [
    "df.drop(columns=[\"name\"], inplace=True)"
   ]
  },
  {
   "cell_type": "markdown",
   "id": "378e4b4b",
   "metadata": {},
   "source": [
    "<h4 style=\"color: #F70206;\">Data to csv</h4>"
   ]
  },
  {
   "cell_type": "code",
   "execution_count": null,
   "id": "904623b1",
   "metadata": {},
   "outputs": [],
   "source": [
    "dfcopy.to_csv('archivo csv del lab', index=True)"
   ]
  }
 ],
 "metadata": {
  "kernelspec": {
   "display_name": "Python 3 (ipykernel)",
   "language": "python",
   "name": "python3"
  },
  "language_info": {
   "codemirror_mode": {
    "name": "ipython",
    "version": 3
   },
   "file_extension": ".py",
   "mimetype": "text/x-python",
   "name": "python",
   "nbconvert_exporter": "python",
   "pygments_lexer": "ipython3",
   "version": "3.11.5"
  }
 },
 "nbformat": 4,
 "nbformat_minor": 5
}
